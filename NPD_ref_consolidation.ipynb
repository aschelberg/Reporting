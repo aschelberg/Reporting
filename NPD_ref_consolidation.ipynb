{
 "cells": [
  {
   "cell_type": "code",
   "execution_count": 1,
   "id": "2cabf477",
   "metadata": {},
   "outputs": [],
   "source": [
    "import pyodbc     # connect to Data Bases using ODBC\n",
    "import pandas as pd     # manipulate data in a tabular data format\n",
    "import getpass  # Mask Passwords\n",
    "#import csv     # Import and save CSV file extension \n",
    "from datetime import datetime, timedelta     # manipulate dates\n",
    "import glob      # Retrieves the list of files matching the specified pattern\n",
    "import matplotlib.pyplot as plt # Data Graphics\n",
    "import time\n",
    "import os\n",
    "\n",
    "NPD_ref = pd.ExcelFile(r\"C:\\Users\\andrew.schelberg\\OneDrive - Vontier\\Desktop\\Financial Reporting\\2023\\0 - RevDm\\00 - Trial Process\\2023_NPD_Forcst1_Master.xlsx\")\n",
    "NPD_ref = NPD_ref.parse('Forcst1')\n",
    "\n",
    "NPD_ref = NPD_ref.drop('Forecast',axis=1)\n",
    "NPD_ref = NPD_ref.drop('Year',axis=1)\n",
    "NPD_ref = NPD_ref.drop('Target Type',axis=1)\n",
    "NPD_ref = NPD_ref.drop('P & L',axis=1)\n",
    "NPD_ref = NPD_ref.drop('Jan',axis=1)\n",
    "NPD_ref = NPD_ref.drop('Feb',axis=1)\n",
    "NPD_ref = NPD_ref.drop('Mar',axis=1)\n",
    "NPD_ref = NPD_ref.drop('Apr',axis=1)\n",
    "NPD_ref = NPD_ref.drop('May',axis=1)\n",
    "NPD_ref = NPD_ref.drop('Jun',axis=1)\n",
    "NPD_ref = NPD_ref.drop('Jul',axis=1)\n",
    "NPD_ref = NPD_ref.drop('Aug',axis=1)\n",
    "NPD_ref = NPD_ref.drop('Sep',axis=1)\n",
    "NPD_ref = NPD_ref.drop('Oct',axis=1)\n",
    "NPD_ref = NPD_ref.drop('Nov',axis=1)\n",
    "NPD_ref = NPD_ref.drop('Dec',axis=1)\n",
    "\n",
    "NPD_ref = NPD_ref.drop_duplicates()\n",
    "\n",
    "\n",
    "# save as ref file\n",
    "file_name_actual = '2023_NPD_ref.xlsx'\n",
    "workbook_actual = pd.ExcelWriter(file_name_actual,datetime_format='mm/dd/yy')\n",
    "NPD_ref.to_excel(workbook_actual , \"Sheet_1\", index = False)\n",
    "workbook_actual.save()"
   ]
  },
  {
   "cell_type": "code",
   "execution_count": null,
   "id": "4858356c",
   "metadata": {},
   "outputs": [],
   "source": []
  }
 ],
 "metadata": {
  "kernelspec": {
   "display_name": "Python 3 (ipykernel)",
   "language": "python",
   "name": "python3"
  },
  "language_info": {
   "codemirror_mode": {
    "name": "ipython",
    "version": 3
   },
   "file_extension": ".py",
   "mimetype": "text/x-python",
   "name": "python",
   "nbconvert_exporter": "python",
   "pygments_lexer": "ipython3",
   "version": "3.9.12"
  }
 },
 "nbformat": 4,
 "nbformat_minor": 5
}
